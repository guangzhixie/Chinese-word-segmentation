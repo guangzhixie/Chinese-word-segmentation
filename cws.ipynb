{
 "cells": [
  {
   "cell_type": "markdown",
   "metadata": {
    "collapsed": true
   },
   "source": [
    "# Chinese Word Segmentation\n",
    "\n",
    "Segment a standardly written Chinese sentence into words.\n",
    "\n",
    "For example, give the following Chinese sentence:\n",
    "\n",
    "**华为Mate9双摄2x变焦新全网通**\n",
    "\n",
    "It produces the output with proper segmentation:\n",
    "\n",
    "**华为&nbsp;&nbsp;Mate9&nbsp;&nbsp;双摄&nbsp;&nbsp;2x&nbsp;&nbsp;变焦&nbsp;&nbsp;新&nbsp;&nbsp;全网通**"
   ]
  },
  {
   "cell_type": "code",
   "execution_count": 4,
   "metadata": {
    "collapsed": false
   },
   "outputs": [],
   "source": [
    "# python libs\n",
    "from itertools import izip\n",
    "from sklearn.externals import joblib\n",
    "#from __future__ import division\n",
    "\n",
    "# in-house libs\n",
    "import tagger\n",
    "#reload(tagger)\n",
    "tagger = tagger.Tagger()\n",
    "\n",
    "import feature_extractor\n",
    "#reload(feature_extractor)\n",
    "featureExtractor = feature_extractor.FeatureExtractor()\n",
    "\n",
    "import maxent_model\n",
    "#reload(maxent_model)\n",
    "model = maxent_model.MaxEntModel()\n",
    "\n",
    "import segmentor\n",
    "#reload(segmentor)"
   ]
  },
  {
   "cell_type": "markdown",
   "metadata": {},
   "source": [
    "## Tag Training Data\n",
    "\n",
    "Tag for a sentence. Input a segmented sentence, and output a list of tags.\n",
    "\n",
    "Types of tags:\n",
    "- **s** single character as a word\n",
    "- **b** beginning of a word\n",
    "- **m** middle of a word\n",
    "- **e** end of a word\n",
    "\n",
    "Punctuations (either English or Chinese) will be tagged as **s**.\n",
    "\n",
    "For example, the example sentence will be tagged as following:\n",
    "\n",
    "**华 为&nbsp;&nbsp;&nbsp;&nbsp;M a&nbsp;&nbsp;t&nbsp;&nbsp;e&nbsp;&nbsp;9&nbsp;&nbsp;&nbsp;&nbsp;双 摄&nbsp;&nbsp;&nbsp;&nbsp;2 x&nbsp;&nbsp;&nbsp;&nbsp;变 焦&nbsp;&nbsp;&nbsp;&nbsp;新&nbsp;&nbsp;&nbsp;&nbsp;全 网 通**\n",
    "\n",
    "**&nbsp;&nbsp;b e&nbsp;&nbsp;&nbsp;&nbsp;&nbsp;b m m m e&nbsp;&nbsp;&nbsp;&nbsp;&nbsp;b e&nbsp;&nbsp;&nbsp;&nbsp;&nbsp;&nbsp;b e&nbsp;&nbsp;&nbsp;&nbsp;&nbsp;&nbsp;b e&nbsp;&nbsp;&nbsp;&nbsp;&nbsp;&nbsp;s&nbsp;&nbsp;&nbsp;&nbsp;&nbsp;&nbsp;&nbsp;b m e**"
   ]
  },
  {
   "cell_type": "code",
   "execution_count": 2,
   "metadata": {
    "collapsed": false
   },
   "outputs": [
    {
     "name": "stdout",
     "output_type": "stream",
     "text": [
      "Tagging for data/training/data.utf8 and output to data/preprocessed/tag.utf8...\n",
      "Done. Total time taken 41 seconds\n"
     ]
    }
   ],
   "source": [
    "tagger.tag_for_file(\"data/training/data.utf8\", \"data/preprocessed/tag.utf8\")"
   ]
  },
  {
   "cell_type": "markdown",
   "metadata": {
    "collapsed": true
   },
   "source": [
    "## Extract Features for Training Data"
   ]
  },
  {
   "cell_type": "markdown",
   "metadata": {},
   "source": [
    "Extract features for a sentence. In case of window size 5, the features are defined as following:\n",
    "\n",
    "- **(a)** $C_{n}$, where $n$ if from -2 to 2\n",
    "- **(b)** $C_{n}C_{n+1}$, where $n$ is from -2 to 1\n",
    "- **(c)** $C_{-1}C_{1}$\n",
    "- **(d)** $Pu$, a boolean value (0 or 1) representing if the current character is a punctuation\n",
    "- **(e)** $T(C_{-2})T(C_{-1})T(C_{0})T(C_{1})T(C_{2})$, type seq of the char seq\n",
    "\n",
    "Sentence boundary: the start-of-sentence character is defined as **< s >**, while the end-of-sentence character is defined as **< /s >**\n",
    "\n",
    "Types are defined as following:\n",
    "- **0** sentence boundary\n",
    "- **1** number char\n",
    "- **2** date char\n",
    "- **3** English letter \n",
    "- **4** others\n",
    "\n",
    "Additional features to use external dictionary. We want to find a word in the dictionary with maximum length that contains the current character.\n",
    "\n",
    "Let $W$ be the matched word containing $C_{0}$, $t_{0}$ be the tag for $C_{0} in $W$, $and $L$ be the length of $W$. Then we can add the following additional features:\n",
    "- **(f)** $Lt_{0}$\n",
    "- **(g)** $C_{n}t_{0}$, where $n$ = -1, 0, 1"
   ]
  },
  {
   "cell_type": "code",
   "execution_count": 3,
   "metadata": {
    "collapsed": false
   },
   "outputs": [
    {
     "name": "stdout",
     "output_type": "stream",
     "text": [
      "Extracting features (v2) for data/training/data.utf8 and output to data/preprocessed/feature.utf8...\n",
      "Done. Total time taken 351 seconds\n"
     ]
    }
   ],
   "source": [
    "featureExtractor.extract_feature_for_file(\"data/training/data.utf8\", \"data/preprocessed/feature.utf8\")"
   ]
  },
  {
   "cell_type": "markdown",
   "metadata": {
    "collapsed": true
   },
   "source": [
    "## Train MaxEnt Model"
   ]
  },
  {
   "cell_type": "markdown",
   "metadata": {},
   "source": [
    "Train model and save into file"
   ]
  },
  {
   "cell_type": "code",
   "execution_count": 4,
   "metadata": {
    "collapsed": false
   },
   "outputs": [
    {
     "name": "stdout",
     "output_type": "stream",
     "text": [
      "Loading training data..\n",
      "Done\n",
      "Start to train the model...\n",
      "Done. Total time taken 7751.04100013 seconds\n"
     ]
    }
   ],
   "source": [
    "model.train(\"data/preprocessed/feature.utf8\", \"data/preprocessed/tag.utf8\", \"data/model/model\")"
   ]
  },
  {
   "cell_type": "markdown",
   "metadata": {
    "collapsed": true
   },
   "source": [
    "## Use Model to do Segmentation"
   ]
  },
  {
   "cell_type": "markdown",
   "metadata": {},
   "source": [
    "When use the model to tag a sentence, need to make sure the correct tag sequence.\n",
    "\n",
    "List of invalid tag sequences:\n",
    "- m -> s\n",
    "- m -> b\n",
    "- s -> m\n",
    "- s -> e\n",
    "- b -> s\n",
    "- e -> m\n",
    "- b -> b\n",
    "- e -> e\n",
    "- m -> m\n",
    "\n",
    "Also, a sentence should never start with tag **m** or **e**."
   ]
  },
  {
   "cell_type": "markdown",
   "metadata": {},
   "source": [
    "Load the trained model"
   ]
  },
  {
   "cell_type": "code",
   "execution_count": 5,
   "metadata": {
    "collapsed": true
   },
   "outputs": [],
   "source": [
    "segmentor = segmentor.Segmentor(joblib.load(\"data/model/model\", mmap_mode='r'))"
   ]
  },
  {
   "cell_type": "markdown",
   "metadata": {},
   "source": [
    "Do segmentation for sentences in a file"
   ]
  },
  {
   "cell_type": "code",
   "execution_count": 9,
   "metadata": {
    "collapsed": false
   },
   "outputs": [
    {
     "name": "stdout",
     "output_type": "stream",
     "text": [
      "Done. Total time taken 0 seconds\n"
     ]
    }
   ],
   "source": [
    "segmentor.do_segmentation_for_file(\"data/test/taobao.utf8\", \"data/result/taobao_segmentation.utf8\")"
   ]
  },
  {
   "cell_type": "markdown",
   "metadata": {},
   "source": [
    "## Demo"
   ]
  },
  {
   "cell_type": "markdown",
   "metadata": {},
   "source": [
    "Do segmentation for a sentence"
   ]
  },
  {
   "cell_type": "code",
   "execution_count": 7,
   "metadata": {
    "collapsed": false
   },
   "outputs": [
    {
     "name": "stdout",
     "output_type": "stream",
     "text": [
      "华为 Mate9 双摄 2x 变焦 新 全网通\n"
     ]
    }
   ],
   "source": [
    "print segmentor.do_segmentation_for_sentence(\"华为Mate9双摄2x变焦新全网通\")"
   ]
  },
  {
   "cell_type": "code",
   "execution_count": 8,
   "metadata": {
    "collapsed": false
   },
   "outputs": [
    {
     "name": "stdout",
     "output_type": "stream",
     "text": [
      "男 韩版 宽松 短袖 T恤 圆领 日系 五分袖 学生 上衣\n"
     ]
    }
   ],
   "source": [
    "print segmentor.do_segmentation_for_sentence(\"男韩版宽松短袖T恤 圆领日系五分袖学生上衣\")"
   ]
  },
  {
   "cell_type": "code",
   "execution_count": 8,
   "metadata": {
    "collapsed": false,
    "scrolled": true
   },
   "outputs": [
    {
     "name": "stdout",
     "output_type": "stream",
     "text": [
      "EKT 男士 纯色 V领 半袖 T恤 韩版 修身 薄款 体恤衫 冰丝 无痕 短袖 夏装 潮\n"
     ]
    }
   ],
   "source": [
    "print segmentor.do_segmentation_for_sentence(\"EKT男士纯色V领半袖T恤 韩版修身薄款体恤衫 冰丝无痕短袖夏装\")"
   ]
  },
  {
   "cell_type": "code",
   "execution_count": 16,
   "metadata": {
    "collapsed": false
   },
   "outputs": [
    {
     "name": "stdout",
     "output_type": "stream",
     "text": [
      "林珊珊 2017 新款 夏装 圆领 纯色 显瘦 内搭 打底衫 修身 针织\n"
     ]
    }
   ],
   "source": [
    "print segmentor.do_segmentation_for_sentence(\"林珊珊 2017新款夏装圆领纯色显瘦内搭打底衫修身针织\")"
   ]
  },
  {
   "cell_type": "code",
   "execution_count": 26,
   "metadata": {
    "collapsed": false
   },
   "outputs": [
    {
     "name": "stdout",
     "output_type": "stream",
     "text": [
      "日系 潮牌 军事 风 暗黑 迷彩 男士 休闲 POLO衫 纯棉 宽松 翻领\n"
     ]
    }
   ],
   "source": [
    "print segmentor.do_segmentation_for_sentence(\"日系潮牌 军事风 暗黑迷彩男士休闲POLO衫 纯棉宽松翻领\")"
   ]
  },
  {
   "cell_type": "code",
   "execution_count": null,
   "metadata": {
    "collapsed": true
   },
   "outputs": [],
   "source": []
  }
 ],
 "metadata": {
  "anaconda-cloud": {},
  "kernelspec": {
   "display_name": "Python [conda root]",
   "language": "python",
   "name": "conda-root-py"
  },
  "language_info": {
   "codemirror_mode": {
    "name": "ipython",
    "version": 2
   },
   "file_extension": ".py",
   "mimetype": "text/x-python",
   "name": "python",
   "nbconvert_exporter": "python",
   "pygments_lexer": "ipython2",
   "version": "2.7.12"
  }
 },
 "nbformat": 4,
 "nbformat_minor": 1
}
